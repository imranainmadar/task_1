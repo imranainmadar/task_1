{
 "cells": [
  {
   "cell_type": "code",
   "execution_count": null,
   "id": "2aa62d37-0287-421a-ae6e-85e5b9ac2cc9",
   "metadata": {},
   "outputs": [],
   "source": [
    "import numpy as np\n",
    "import pandas as pd\n",
    "import matplotlib.pyplot as plt\n",
    "import seaborn as sns"
   ]
  },
  {
   "cell_type": "code",
   "execution_count": null,
   "id": "7a3d223e-5cb2-41a6-9212-d3cecfca5064",
   "metadata": {},
   "outputs": [],
   "source": [
    "df=pd.read_csv(\"tested.csv\")"
   ]
  },
  {
   "cell_type": "code",
   "execution_count": null,
   "id": "d0d8b6d0-a059-40f1-bdea-3d3e7d72ff64",
   "metadata": {},
   "outputs": [],
   "source": [
    "df.head()"
   ]
  },
  {
   "cell_type": "code",
   "execution_count": null,
   "id": "e2bb29c3-45e6-4029-a224-e4aa9cdc8e74",
   "metadata": {},
   "outputs": [],
   "source": [
    "df.head(10)"
   ]
  },
  {
   "cell_type": "code",
   "execution_count": null,
   "id": "a0496083-69cb-4243-bfbe-a5edd05f6251",
   "metadata": {},
   "outputs": [],
   "source": [
    "df.shape"
   ]
  },
  {
   "cell_type": "code",
   "execution_count": null,
   "id": "1fc8b8a7-7688-4c78-a3b1-a93dbcb25344",
   "metadata": {},
   "outputs": [],
   "source": [
    "df.describe()"
   ]
  },
  {
   "cell_type": "code",
   "execution_count": null,
   "id": "88910d32-6c93-47e0-b477-53525a804589",
   "metadata": {},
   "outputs": [],
   "source": [
    "df['Survived'].value_counts()"
   ]
  },
  {
   "cell_type": "code",
   "execution_count": null,
   "id": "de6c6829-ed62-45f5-aae2-87f2ca0fda76",
   "metadata": {},
   "outputs": [],
   "source": [
    "#let's visualize the count of survivals wrt pclass\n",
    "sns.countplot(x=df['Survived'], hue=df['Pclass'])"
   ]
  },
  {
   "cell_type": "code",
   "execution_count": null,
   "id": "7f88ec3b-0d0a-43fc-98cd-0a2c0543d8ca",
   "metadata": {},
   "outputs": [],
   "source": [
    "df[\"Sex\"]"
   ]
  },
  {
   "cell_type": "code",
   "execution_count": null,
   "id": "6f6b27f1-ec4d-41e2-a97b-95eb8afaefbc",
   "metadata": {},
   "outputs": [],
   "source": [
    "#let's visualize the count of survivals wrt Gender\n",
    "sns.countplot(x=df['Sex'], hue=df['Survived'])"
   ]
  },
  {
   "cell_type": "code",
   "execution_count": null,
   "id": "bf9f93ac-9663-4f0b-976d-59ff7996b982",
   "metadata": {},
   "outputs": [],
   "source": [
    "#Look at survival rate by sex\n",
    "df.groupby('Sex')[['Survived']].mean()"
   ]
  },
  {
   "cell_type": "code",
   "execution_count": null,
   "id": "b7bd23a3-fa98-47e8-bb75-8fbed7bf25fd",
   "metadata": {},
   "outputs": [],
   "source": [
    "df['Sex'].unique()"
   ]
  },
  {
   "cell_type": "code",
   "execution_count": null,
   "id": "d85ebf75-ac1a-4707-b36b-881a69255c88",
   "metadata": {},
   "outputs": [],
   "source": [
    "from sklearn.preprocessing import LabelEncoder\n",
    "labelencoder = LabelEncoder()\n",
    "\n",
    "df['Sex']= labelencoder.fit_transform(df['Sex'])\n",
    "\n",
    "df.head()"
   ]
  },
  {
   "cell_type": "code",
   "execution_count": null,
   "id": "e2241851-ed9b-4e95-8f92-6d3c3be18bb0",
   "metadata": {},
   "outputs": [],
   "source": [
    "df['Sex'], df['Survived']"
   ]
  },
  {
   "cell_type": "code",
   "execution_count": null,
   "id": "d0d5dc87-f611-465b-ace8-cd16f88d292d",
   "metadata": {},
   "outputs": [],
   "source": [
    "sns.countplot(x=df['Sex'], hue=df[\"Survived\"])"
   ]
  },
  {
   "cell_type": "code",
   "execution_count": null,
   "id": "63fbc019-625c-4e7f-9605-93c29552c5eb",
   "metadata": {},
   "outputs": [],
   "source": [
    "df.isna().sum()"
   ]
  },
  {
   "cell_type": "code",
   "execution_count": null,
   "id": "3996a90e-eac7-4c5e-8c45-991a94c36699",
   "metadata": {},
   "outputs": [],
   "source": [
    "# After dropping non required column\n",
    "df=df.drop(['Age'], axis=1)"
   ]
  },
  {
   "cell_type": "code",
   "execution_count": null,
   "id": "86f476da-0e1c-4f36-acd2-57f7795d079c",
   "metadata": {},
   "outputs": [],
   "source": [
    "df_final = df\n",
    "df_final.head(10)"
   ]
  },
  {
   "cell_type": "code",
   "execution_count": null,
   "id": "dc07e3bc-f200-4fc0-9d5b-ef25e88716a4",
   "metadata": {},
   "outputs": [],
   "source": [
    "X= df[['Pclass', 'Sex']]\n",
    "Y=df['Survived']"
   ]
  },
  {
   "cell_type": "code",
   "execution_count": null,
   "id": "a4b7b71a-563f-4203-b720-6044116fa790",
   "metadata": {},
   "outputs": [],
   "source": [
    "from sklearn.model_selection import train_test_split\n",
    "X_train, X_test, Y_train, Y_test = train_test_split(X, Y, test_size = 0.2, random_state = 0)"
   ]
  },
  {
   "cell_type": "code",
   "execution_count": null,
   "id": "384e4ff8-8756-48bb-abfa-213115bd8e90",
   "metadata": {},
   "outputs": [],
   "source": [
    "from sklearn.linear_model import LogisticRegression\n",
    "\n",
    "log = LogisticRegression(random_state = 0)\n",
    "log.fit(X_train, Y_train)"
   ]
  },
  {
   "cell_type": "code",
   "execution_count": null,
   "id": "0818da20-9203-484b-9c17-3514694b7b2b",
   "metadata": {},
   "outputs": [],
   "source": [
    "pred = print(log.predict(X_test))"
   ]
  },
  {
   "cell_type": "code",
   "execution_count": null,
   "id": "609b56ab-1440-4a69-a902-d0faf6b14cfd",
   "metadata": {},
   "outputs": [],
   "source": [
    "print(Y_test)"
   ]
  },
  {
   "cell_type": "code",
   "execution_count": 100,
   "id": "0382efbb-c752-437f-96ad-45f82d17f6d3",
   "metadata": {},
   "outputs": [
    {
     "name": "stdout",
     "output_type": "stream",
     "text": [
      "Unfortunately! Not Survived\n"
     ]
    }
   ],
   "source": [
    "import warnings\n",
    "warnings.filterwarnings(\"ignore\")\n",
    "\n",
    "res= log.predict([[2,1]])\n",
    "\n",
    "if(res==0):\n",
    "  print(\"Unfortunately! Not Survived\")\n",
    "else:\n",
    "  print(\" yeah!!Survived\")"
   ]
  },
  {
   "cell_type": "code",
   "execution_count": 102,
   "id": "beae24b1-9ddc-4d52-80e9-c6a6744970a0",
   "metadata": {},
   "outputs": [],
   "source": [
    "# Import necessary libraries\n",
    "import pandas as pd\n",
    "from sklearn.model_selection import train_test_split\n",
    "from sklearn.ensemble import RandomForestClassifier\n",
    "from sklearn.metrics import accuracy_score\n"
   ]
  },
  {
   "cell_type": "code",
   "execution_count": 104,
   "id": "df889595-4603-4273-bd86-e5fe7efa9df5",
   "metadata": {},
   "outputs": [],
   "source": [
    "# Step 1: Load the data\n",
    "file_path = 'tested.csv'  # Update this with the correct file path if different\n",
    "data = pd.read_csv(file_path)\n"
   ]
  },
  {
   "cell_type": "code",
   "execution_count": null,
   "id": "7aa84a8b-a0f2-4aec-a276-2f2df32c5816",
   "metadata": {},
   "outputs": [],
   "source": []
  }
 ],
 "metadata": {
  "kernelspec": {
   "display_name": "Python 3 (ipykernel)",
   "language": "python",
   "name": "python3"
  },
  "language_info": {
   "codemirror_mode": {
    "name": "ipython",
    "version": 3
   },
   "file_extension": ".py",
   "mimetype": "text/x-python",
   "name": "python",
   "nbconvert_exporter": "python",
   "pygments_lexer": "ipython3",
   "version": "3.12.4"
  }
 },
 "nbformat": 4,
 "nbformat_minor": 5
}
